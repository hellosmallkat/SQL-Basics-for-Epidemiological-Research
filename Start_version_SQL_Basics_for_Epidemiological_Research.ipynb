{
  "cells": [
    {
      "cell_type": "markdown",
      "metadata": {
        "id": "view-in-github",
        "colab_type": "text"
      },
      "source": [
        "<a href=\"https://colab.research.google.com/github/hellosmallkat/SQL-Basics-for-Epidemiological-Research/blob/main/Copy_of_SQL_Basics_for_Epidemiological_Research.ipynb\" target=\"_parent\"><img src=\"https://colab.research.google.com/assets/colab-badge.svg\" alt=\"Open In Colab\"/></a>"
      ]
    },
    {
      "cell_type": "markdown",
      "id": "0b62d2ab",
      "metadata": {
        "id": "0b62d2ab"
      },
      "source": [
        "\n",
        "\n",
        "<h1 align=\"center\">\n",
        "    NSDC Data Science Capsule Projects\n",
        "</h1>\n",
        "\n",
        "<h2 align=\"center\">\n",
        "    Project: SQL Basics for Epidemiological Research\n",
        "</h2>\n",
        "\n",
        "<h3 align=\"center\">\n",
        "    Name: Kat Toolan\n",
        "</h3>\n"
      ]
    },
    {
      "cell_type": "markdown",
      "id": "25b52637",
      "metadata": {
        "id": "25b52637"
      },
      "source": [
        "### **Please read before you begin your project**\n",
        "\n",
        "This notebook will guide you through the process of analyzing a COVID-19 dataset using SQL queries in Python.\n",
        "\n",
        "**Instructions: Google Colab Notebooks:**\n",
        "\n",
        "Google Colab is a free cloud service. It is a hosted Jupyter notebook service that requires no setup to use, while providing free access to computing resources. We will be using Google Colab for this project.\n",
        "\n",
        "In order to work within the Google Colab Notebook, **please start by clicking on \"File\" and then \"Save a copy in Drive.\"** This will save a copy of the notebook in your personal Google Drive.\n",
        "\n",
        "Please rename the file to \"SQL for Epidemiology - Your Full Name.\" Once this project is completed, you will be prompted to share your file with the National Student Data Corps (NSDC) Project Leaders.\n",
        "\n",
        "The notebook is provided with blanks \"_________\" and a comment instructing you on what needs to be done. You need to fill the space with the correct code to make sure you get the desired output.\n",
        "\n",
        "You can now start working on the project. :)\n",
        "\n",
        "**Project Description:**\n",
        "\n",
        "To work with the Covid-19 dataset in this project, you'll need to create and connect to an SQLite database as seen in the steps within this notebook.\n",
        "\n",
        "**Key Features**\n",
        "\n",
        "- Practical SQL exercises with step-by-step instructions.\n",
        "- Real-world datasets for hands-on experience.\n",
        "- Comprehensive explanations of SQL queries and concepts.\n",
        "- Interactive coding examples and challenges.\n",
        "\n",
        "**Dataset**\n",
        "Our World in Data COVID-19 Dataset: This dataset provides comprehensive data on COVID-19 cases, deaths, testing, and vaccination worldwide.\n",
        "- You can find the dataset on Kaggle: [Kaggle Link](https://www.kaggle.com/datasets/bolkonsky/covid19)\n",
        "- Download the dataset from the provided link and save it as 'covid19.csv' on your computer.\n",
        "- On Google Colab, click on the \"Upload\" button and select the 'covid19.csv' file from your local computer."
      ]
    },
    {
      "cell_type": "markdown",
      "id": "e4c2edc2",
      "metadata": {
        "id": "e4c2edc2"
      },
      "source": [
        "## Introduction\n",
        "This SQL project is designed for beginners who want to practice writing SQL queries using a real-world dataset. In this project, we will work with the Covid-19 dataset. The main goal is to help you become familiar with SQL syntax and basic data analysis tasks. Make sure to complete the code where there is a 'TODO' sign. Hints are provided along the way.\n",
        "\n",
        "## Table of Contents\n",
        "1. [Libraries and Database Setup](#libraries-and-database-setup)\n",
        "2. [Loading the Dataset](#loading-the-dataset)\n",
        "3. [Basic SQL Queries](#basic-sql-queries)\n",
        "4. [Filtering Data](#filtering-data)\n",
        "5. [Aggregating Data](#aggregating-data)\n",
        "6. [Grouping Data](#grouping-data)\n",
        "7. [Sorting Data](#sorting-data)\n",
        "8. [Joining Tables](#joining-tables)\n",
        "9. [Subqueries](#subqueries)\n",
        "10. [Window Functions](#window-functions)\n",
        "11. [Data Analysis and Visualization](#data-analysis-and-visualization)\n",
        "12. [Closing Connection](#closing-connection)\n",
        "13. [Summary of Basic SQL Commands](#summary-of-basic-sql-commands)\n"
      ]
    },
    {
      "cell_type": "markdown",
      "id": "741d92df",
      "metadata": {
        "id": "741d92df"
      },
      "source": [
        "## Milestone 1: Importing Libraries and Dataset\n",
        "In this milestone, we will import the necessary libraries and load the COVID-19 dataset into a pandas DataFrame."
      ]
    },
    {
      "cell_type": "code",
      "execution_count": null,
      "id": "618d8b53",
      "metadata": {
        "id": "618d8b53"
      },
      "outputs": [],
      "source": [
        "# Importing necessary libraries\n",
        "import pandas as pd\n",
        "import sqlite3\n",
        "import matplotlib.pyplot as plt\n",
        "import matplotlib.dates as mdates"
      ]
    },
    {
      "cell_type": "code",
      "execution_count": null,
      "id": "ef0e3444",
      "metadata": {
        "id": "ef0e3444",
        "outputId": "b1e47ea3-2e91-49ce-a977-df583fad096e"
      },
      "outputs": [
        {
          "data": {
            "text/html": [
              "<div>\n",
              "<style scoped>\n",
              "    .dataframe tbody tr th:only-of-type {\n",
              "        vertical-align: middle;\n",
              "    }\n",
              "\n",
              "    .dataframe tbody tr th {\n",
              "        vertical-align: top;\n",
              "    }\n",
              "\n",
              "    .dataframe thead th {\n",
              "        text-align: right;\n",
              "    }\n",
              "</style>\n",
              "<table border=\"1\" class=\"dataframe\">\n",
              "  <thead>\n",
              "    <tr style=\"text-align: right;\">\n",
              "      <th></th>\n",
              "      <th>iso_code</th>\n",
              "      <th>continent</th>\n",
              "      <th>location</th>\n",
              "      <th>date</th>\n",
              "      <th>total_cases</th>\n",
              "      <th>new_cases</th>\n",
              "      <th>new_cases_smoothed</th>\n",
              "      <th>total_deaths</th>\n",
              "      <th>new_deaths</th>\n",
              "      <th>new_deaths_smoothed</th>\n",
              "      <th>...</th>\n",
              "      <th>gdp_per_capita</th>\n",
              "      <th>extreme_poverty</th>\n",
              "      <th>cardiovasc_death_rate</th>\n",
              "      <th>diabetes_prevalence</th>\n",
              "      <th>female_smokers</th>\n",
              "      <th>male_smokers</th>\n",
              "      <th>handwashing_facilities</th>\n",
              "      <th>hospital_beds_per_thousand</th>\n",
              "      <th>life_expectancy</th>\n",
              "      <th>human_development_index</th>\n",
              "    </tr>\n",
              "  </thead>\n",
              "  <tbody>\n",
              "    <tr>\n",
              "      <th>0</th>\n",
              "      <td>AFG</td>\n",
              "      <td>Asia</td>\n",
              "      <td>Afghanistan</td>\n",
              "      <td>2019-12-31</td>\n",
              "      <td>0.0</td>\n",
              "      <td>0.0</td>\n",
              "      <td>NaN</td>\n",
              "      <td>0.0</td>\n",
              "      <td>0.0</td>\n",
              "      <td>NaN</td>\n",
              "      <td>...</td>\n",
              "      <td>1803.987</td>\n",
              "      <td>NaN</td>\n",
              "      <td>597.029</td>\n",
              "      <td>9.59</td>\n",
              "      <td>NaN</td>\n",
              "      <td>NaN</td>\n",
              "      <td>37.746</td>\n",
              "      <td>0.5</td>\n",
              "      <td>64.83</td>\n",
              "      <td>0.498</td>\n",
              "    </tr>\n",
              "    <tr>\n",
              "      <th>1</th>\n",
              "      <td>AFG</td>\n",
              "      <td>Asia</td>\n",
              "      <td>Afghanistan</td>\n",
              "      <td>2020-01-01</td>\n",
              "      <td>0.0</td>\n",
              "      <td>0.0</td>\n",
              "      <td>NaN</td>\n",
              "      <td>0.0</td>\n",
              "      <td>0.0</td>\n",
              "      <td>NaN</td>\n",
              "      <td>...</td>\n",
              "      <td>1803.987</td>\n",
              "      <td>NaN</td>\n",
              "      <td>597.029</td>\n",
              "      <td>9.59</td>\n",
              "      <td>NaN</td>\n",
              "      <td>NaN</td>\n",
              "      <td>37.746</td>\n",
              "      <td>0.5</td>\n",
              "      <td>64.83</td>\n",
              "      <td>0.498</td>\n",
              "    </tr>\n",
              "    <tr>\n",
              "      <th>2</th>\n",
              "      <td>AFG</td>\n",
              "      <td>Asia</td>\n",
              "      <td>Afghanistan</td>\n",
              "      <td>2020-01-02</td>\n",
              "      <td>0.0</td>\n",
              "      <td>0.0</td>\n",
              "      <td>NaN</td>\n",
              "      <td>0.0</td>\n",
              "      <td>0.0</td>\n",
              "      <td>NaN</td>\n",
              "      <td>...</td>\n",
              "      <td>1803.987</td>\n",
              "      <td>NaN</td>\n",
              "      <td>597.029</td>\n",
              "      <td>9.59</td>\n",
              "      <td>NaN</td>\n",
              "      <td>NaN</td>\n",
              "      <td>37.746</td>\n",
              "      <td>0.5</td>\n",
              "      <td>64.83</td>\n",
              "      <td>0.498</td>\n",
              "    </tr>\n",
              "    <tr>\n",
              "      <th>3</th>\n",
              "      <td>AFG</td>\n",
              "      <td>Asia</td>\n",
              "      <td>Afghanistan</td>\n",
              "      <td>2020-01-03</td>\n",
              "      <td>0.0</td>\n",
              "      <td>0.0</td>\n",
              "      <td>NaN</td>\n",
              "      <td>0.0</td>\n",
              "      <td>0.0</td>\n",
              "      <td>NaN</td>\n",
              "      <td>...</td>\n",
              "      <td>1803.987</td>\n",
              "      <td>NaN</td>\n",
              "      <td>597.029</td>\n",
              "      <td>9.59</td>\n",
              "      <td>NaN</td>\n",
              "      <td>NaN</td>\n",
              "      <td>37.746</td>\n",
              "      <td>0.5</td>\n",
              "      <td>64.83</td>\n",
              "      <td>0.498</td>\n",
              "    </tr>\n",
              "    <tr>\n",
              "      <th>4</th>\n",
              "      <td>AFG</td>\n",
              "      <td>Asia</td>\n",
              "      <td>Afghanistan</td>\n",
              "      <td>2020-01-04</td>\n",
              "      <td>0.0</td>\n",
              "      <td>0.0</td>\n",
              "      <td>NaN</td>\n",
              "      <td>0.0</td>\n",
              "      <td>0.0</td>\n",
              "      <td>NaN</td>\n",
              "      <td>...</td>\n",
              "      <td>1803.987</td>\n",
              "      <td>NaN</td>\n",
              "      <td>597.029</td>\n",
              "      <td>9.59</td>\n",
              "      <td>NaN</td>\n",
              "      <td>NaN</td>\n",
              "      <td>37.746</td>\n",
              "      <td>0.5</td>\n",
              "      <td>64.83</td>\n",
              "      <td>0.498</td>\n",
              "    </tr>\n",
              "  </tbody>\n",
              "</table>\n",
              "<p>5 rows × 41 columns</p>\n",
              "</div>"
            ],
            "text/plain": [
              "  iso_code continent     location        date  total_cases  new_cases  \\\n",
              "0      AFG      Asia  Afghanistan  2019-12-31          0.0        0.0   \n",
              "1      AFG      Asia  Afghanistan  2020-01-01          0.0        0.0   \n",
              "2      AFG      Asia  Afghanistan  2020-01-02          0.0        0.0   \n",
              "3      AFG      Asia  Afghanistan  2020-01-03          0.0        0.0   \n",
              "4      AFG      Asia  Afghanistan  2020-01-04          0.0        0.0   \n",
              "\n",
              "   new_cases_smoothed  total_deaths  new_deaths  new_deaths_smoothed  ...  \\\n",
              "0                 NaN           0.0         0.0                  NaN  ...   \n",
              "1                 NaN           0.0         0.0                  NaN  ...   \n",
              "2                 NaN           0.0         0.0                  NaN  ...   \n",
              "3                 NaN           0.0         0.0                  NaN  ...   \n",
              "4                 NaN           0.0         0.0                  NaN  ...   \n",
              "\n",
              "   gdp_per_capita  extreme_poverty  cardiovasc_death_rate  \\\n",
              "0        1803.987              NaN                597.029   \n",
              "1        1803.987              NaN                597.029   \n",
              "2        1803.987              NaN                597.029   \n",
              "3        1803.987              NaN                597.029   \n",
              "4        1803.987              NaN                597.029   \n",
              "\n",
              "   diabetes_prevalence  female_smokers  male_smokers  handwashing_facilities  \\\n",
              "0                 9.59             NaN           NaN                  37.746   \n",
              "1                 9.59             NaN           NaN                  37.746   \n",
              "2                 9.59             NaN           NaN                  37.746   \n",
              "3                 9.59             NaN           NaN                  37.746   \n",
              "4                 9.59             NaN           NaN                  37.746   \n",
              "\n",
              "   hospital_beds_per_thousand  life_expectancy  human_development_index  \n",
              "0                         0.5            64.83                    0.498  \n",
              "1                         0.5            64.83                    0.498  \n",
              "2                         0.5            64.83                    0.498  \n",
              "3                         0.5            64.83                    0.498  \n",
              "4                         0.5            64.83                    0.498  \n",
              "\n",
              "[5 rows x 41 columns]"
            ]
          },
          "execution_count": 2,
          "metadata": {},
          "output_type": "execute_result"
        }
      ],
      "source": [
        "# Load the dataset\n",
        "df = pd.read_csv('covid19.csv')  # Update with the correct local path\n",
        "\n",
        "# Display the first few rows\n",
        "df._____________"
      ]
    },
    {
      "cell_type": "markdown",
      "id": "16dbb79f",
      "metadata": {
        "id": "16dbb79f"
      },
      "source": [
        "## Milestone 2: Setting Up SQLite Database\n",
        "Here, we will create an SQLite database and import the DataFrame into an SQL table."
      ]
    },
    {
      "cell_type": "code",
      "execution_count": null,
      "id": "14b222b8",
      "metadata": {
        "id": "14b222b8",
        "outputId": "70ce3a29-08f9-4819-ef92-f4e9975d7930"
      },
      "outputs": [
        {
          "data": {
            "text/plain": [
              "44785"
            ]
          },
          "execution_count": 3,
          "metadata": {},
          "output_type": "execute_result"
        }
      ],
      "source": [
        "# Create a connection to SQLite database\n",
        "conn = sqlite3.connect('covid19.db')\n",
        "cursor = conn.cursor()\n",
        "\n",
        "# Convert DataFrame to SQL\n",
        "df.to_sql('covid19_data', conn, if_exists='replace', index=False)"
      ]
    },
    {
      "cell_type": "markdown",
      "id": "c753f3c2",
      "metadata": {
        "id": "c753f3c2"
      },
      "source": [
        "## Milestone 3: Basic SQL Queries\n",
        "In this milestone, we will perform some basic SQL queries to select columns and rows from the table."
      ]
    },
    {
      "cell_type": "code",
      "execution_count": null,
      "id": "3baa50d2",
      "metadata": {
        "id": "3baa50d2",
        "outputId": "1dbd2b4c-b3c5-444e-fddd-4696c502f0b4"
      },
      "outputs": [
        {
          "name": "stdout",
          "output_type": "stream",
          "text": [
            "  iso_code continent     location        date  total_cases  new_cases  \\\n",
            "0      AFG      Asia  Afghanistan  2019-12-31          0.0        0.0   \n",
            "1      AFG      Asia  Afghanistan  2020-01-01          0.0        0.0   \n",
            "2      AFG      Asia  Afghanistan  2020-01-02          0.0        0.0   \n",
            "3      AFG      Asia  Afghanistan  2020-01-03          0.0        0.0   \n",
            "4      AFG      Asia  Afghanistan  2020-01-04          0.0        0.0   \n",
            "5      AFG      Asia  Afghanistan  2020-01-05          0.0        0.0   \n",
            "6      AFG      Asia  Afghanistan  2020-01-06          0.0        0.0   \n",
            "7      AFG      Asia  Afghanistan  2020-01-07          0.0        0.0   \n",
            "8      AFG      Asia  Afghanistan  2020-01-08          0.0        0.0   \n",
            "9      AFG      Asia  Afghanistan  2020-01-09          0.0        0.0   \n",
            "\n",
            "   new_cases_smoothed  total_deaths  new_deaths  new_deaths_smoothed  ...  \\\n",
            "0                 NaN           0.0         0.0                  NaN  ...   \n",
            "1                 NaN           0.0         0.0                  NaN  ...   \n",
            "2                 NaN           0.0         0.0                  NaN  ...   \n",
            "3                 NaN           0.0         0.0                  NaN  ...   \n",
            "4                 NaN           0.0         0.0                  NaN  ...   \n",
            "5                 NaN           0.0         0.0                  NaN  ...   \n",
            "6                 0.0           0.0         0.0                  0.0  ...   \n",
            "7                 0.0           0.0         0.0                  0.0  ...   \n",
            "8                 0.0           0.0         0.0                  0.0  ...   \n",
            "9                 0.0           0.0         0.0                  0.0  ...   \n",
            "\n",
            "   gdp_per_capita  extreme_poverty  cardiovasc_death_rate  \\\n",
            "0        1803.987             None                597.029   \n",
            "1        1803.987             None                597.029   \n",
            "2        1803.987             None                597.029   \n",
            "3        1803.987             None                597.029   \n",
            "4        1803.987             None                597.029   \n",
            "5        1803.987             None                597.029   \n",
            "6        1803.987             None                597.029   \n",
            "7        1803.987             None                597.029   \n",
            "8        1803.987             None                597.029   \n",
            "9        1803.987             None                597.029   \n",
            "\n",
            "   diabetes_prevalence  female_smokers  male_smokers handwashing_facilities  \\\n",
            "0                 9.59            None          None                 37.746   \n",
            "1                 9.59            None          None                 37.746   \n",
            "2                 9.59            None          None                 37.746   \n",
            "3                 9.59            None          None                 37.746   \n",
            "4                 9.59            None          None                 37.746   \n",
            "5                 9.59            None          None                 37.746   \n",
            "6                 9.59            None          None                 37.746   \n",
            "7                 9.59            None          None                 37.746   \n",
            "8                 9.59            None          None                 37.746   \n",
            "9                 9.59            None          None                 37.746   \n",
            "\n",
            "  hospital_beds_per_thousand life_expectancy human_development_index  \n",
            "0                        0.5           64.83                   0.498  \n",
            "1                        0.5           64.83                   0.498  \n",
            "2                        0.5           64.83                   0.498  \n",
            "3                        0.5           64.83                   0.498  \n",
            "4                        0.5           64.83                   0.498  \n",
            "5                        0.5           64.83                   0.498  \n",
            "6                        0.5           64.83                   0.498  \n",
            "7                        0.5           64.83                   0.498  \n",
            "8                        0.5           64.83                   0.498  \n",
            "9                        0.5           64.83                   0.498  \n",
            "\n",
            "[10 rows x 41 columns]\n",
            "      location  total_cases  total_deaths\n",
            "0  Afghanistan          0.0           0.0\n",
            "1  Afghanistan          0.0           0.0\n",
            "2  Afghanistan          0.0           0.0\n",
            "3  Afghanistan          0.0           0.0\n",
            "4  Afghanistan          0.0           0.0\n",
            "5  Afghanistan          0.0           0.0\n",
            "6  Afghanistan          0.0           0.0\n",
            "7  Afghanistan          0.0           0.0\n",
            "8  Afghanistan          0.0           0.0\n",
            "9  Afghanistan          0.0           0.0\n"
          ]
        }
      ],
      "source": [
        "# Write a query to generate all columns and limit the rows to 10\n",
        "query_1 = \"__________________;\"\n",
        "\n",
        "# Write a query to select 'location', 'total_cases', and 'total_deaths' columns from the 'covid19_data' table and limit the result to 10 rows.\n",
        "query_2 = \"__________________;\"\n",
        "\n",
        "# Execute the queries\n",
        "result_1 = pd.read_sql_query(query_1, conn)\n",
        "result_2 = pd.read_sql_query(query_2, conn)\n",
        "\n",
        "# Display results\n",
        "print(result_1)\n",
        "print(result_2)"
      ]
    },
    {
      "cell_type": "markdown",
      "id": "fa6b255f",
      "metadata": {
        "id": "fa6b255f"
      },
      "source": [
        "## Milestone 4: Filtering Data\n",
        "We will use the `WHERE` clause and logical operators to filter data based on specific conditions."
      ]
    },
    {
      "cell_type": "code",
      "execution_count": null,
      "id": "f5ead757",
      "metadata": {
        "id": "f5ead757",
        "outputId": "4b48197c-35c5-4a04-d99b-7ed3994051d3"
      },
      "outputs": [
        {
          "name": "stdout",
          "output_type": "stream",
          "text": [
            "  iso_code      continent       location        date  total_cases  new_cases  \\\n",
            "0      USA  North America  United States  2019-12-31          0.0        0.0   \n",
            "1      USA  North America  United States  2020-01-01          0.0        0.0   \n",
            "2      USA  North America  United States  2020-01-02          0.0        0.0   \n",
            "3      USA  North America  United States  2020-01-03          0.0        0.0   \n",
            "4      USA  North America  United States  2020-01-04          0.0        0.0   \n",
            "5      USA  North America  United States  2020-01-05          0.0        0.0   \n",
            "6      USA  North America  United States  2020-01-06          0.0        0.0   \n",
            "7      USA  North America  United States  2020-01-07          0.0        0.0   \n",
            "8      USA  North America  United States  2020-01-08          0.0        0.0   \n",
            "9      USA  North America  United States  2020-01-09          0.0        0.0   \n",
            "\n",
            "   new_cases_smoothed  total_deaths  new_deaths  new_deaths_smoothed  ...  \\\n",
            "0                 NaN           0.0         0.0                  NaN  ...   \n",
            "1                 NaN           0.0         0.0                  NaN  ...   \n",
            "2                 NaN           0.0         0.0                  NaN  ...   \n",
            "3                 NaN           0.0         0.0                  NaN  ...   \n",
            "4                 NaN           0.0         0.0                  NaN  ...   \n",
            "5                 NaN           0.0         0.0                  NaN  ...   \n",
            "6                 0.0           0.0         0.0                  0.0  ...   \n",
            "7                 0.0           0.0         0.0                  0.0  ...   \n",
            "8                 0.0           0.0         0.0                  0.0  ...   \n",
            "9                 0.0           0.0         0.0                  0.0  ...   \n",
            "\n",
            "   gdp_per_capita  extreme_poverty  cardiovasc_death_rate  \\\n",
            "0       54225.446              1.2                151.089   \n",
            "1       54225.446              1.2                151.089   \n",
            "2       54225.446              1.2                151.089   \n",
            "3       54225.446              1.2                151.089   \n",
            "4       54225.446              1.2                151.089   \n",
            "5       54225.446              1.2                151.089   \n",
            "6       54225.446              1.2                151.089   \n",
            "7       54225.446              1.2                151.089   \n",
            "8       54225.446              1.2                151.089   \n",
            "9       54225.446              1.2                151.089   \n",
            "\n",
            "   diabetes_prevalence  female_smokers  male_smokers handwashing_facilities  \\\n",
            "0                10.79            19.1          24.6                   None   \n",
            "1                10.79            19.1          24.6                   None   \n",
            "2                10.79            19.1          24.6                   None   \n",
            "3                10.79            19.1          24.6                   None   \n",
            "4                10.79            19.1          24.6                   None   \n",
            "5                10.79            19.1          24.6                   None   \n",
            "6                10.79            19.1          24.6                   None   \n",
            "7                10.79            19.1          24.6                   None   \n",
            "8                10.79            19.1          24.6                   None   \n",
            "9                10.79            19.1          24.6                   None   \n",
            "\n",
            "  hospital_beds_per_thousand life_expectancy human_development_index  \n",
            "0                       2.77           78.86                   0.924  \n",
            "1                       2.77           78.86                   0.924  \n",
            "2                       2.77           78.86                   0.924  \n",
            "3                       2.77           78.86                   0.924  \n",
            "4                       2.77           78.86                   0.924  \n",
            "5                       2.77           78.86                   0.924  \n",
            "6                       2.77           78.86                   0.924  \n",
            "7                       2.77           78.86                   0.924  \n",
            "8                       2.77           78.86                   0.924  \n",
            "9                       2.77           78.86                   0.924  \n",
            "\n",
            "[10 rows x 41 columns]\n",
            "    iso_code      continent       location        date  total_cases  \\\n",
            "0        USA  North America  United States  2020-03-24      46442.0   \n",
            "1        USA  North America  United States  2020-03-26      69194.0   \n",
            "2        USA  North America  United States  2020-03-27      85991.0   \n",
            "3        USA  North America  United States  2020-03-28     104686.0   \n",
            "4        USA  North America  United States  2020-03-29     124665.0   \n",
            "..       ...            ...            ...         ...          ...   \n",
            "174      USA  North America  United States  2020-09-15    6554820.0   \n",
            "175      USA  North America  United States  2020-09-16    6606293.0   \n",
            "176      USA  North America  United States  2020-09-17    6630891.0   \n",
            "177      USA  North America  United States  2020-09-18    6674458.0   \n",
            "178      USA  North America  United States  2020-09-19    6724667.0   \n",
            "\n",
            "     new_cases  new_cases_smoothed  total_deaths  new_deaths  \\\n",
            "0      11236.0            5968.714         590.0       119.0   \n",
            "1      13963.0            8539.857        1050.0       249.0   \n",
            "2      16797.0           10248.714        1296.0       246.0   \n",
            "3      18695.0           12151.714        1707.0       411.0   \n",
            "4      19979.0           13988.286        2191.0       484.0   \n",
            "..         ...                 ...           ...         ...   \n",
            "174    34841.0           36307.000      194530.0       451.0   \n",
            "175    51473.0           39785.714      195937.0      1407.0   \n",
            "176    24598.0           38738.714      196802.0       865.0   \n",
            "177    43567.0           39604.429      197633.0       831.0   \n",
            "178    50209.0           39911.286      198589.0       956.0   \n",
            "\n",
            "     new_deaths_smoothed  ...  gdp_per_capita  extreme_poverty  \\\n",
            "0                 72.143  ...       54225.446              1.2   \n",
            "1                128.571  ...       54225.446              1.2   \n",
            "2                163.714  ...       54225.446              1.2   \n",
            "3                206.714  ...       54225.446              1.2   \n",
            "4                264.429  ...       54225.446              1.2   \n",
            "..                   ...  ...             ...              ...   \n",
            "174              760.286  ...       54225.446              1.2   \n",
            "175              894.000  ...       54225.446              1.2   \n",
            "176              855.286  ...       54225.446              1.2   \n",
            "177              834.857  ...       54225.446              1.2   \n",
            "178              796.143  ...       54225.446              1.2   \n",
            "\n",
            "     cardiovasc_death_rate  diabetes_prevalence  female_smokers  male_smokers  \\\n",
            "0                  151.089                10.79            19.1          24.6   \n",
            "1                  151.089                10.79            19.1          24.6   \n",
            "2                  151.089                10.79            19.1          24.6   \n",
            "3                  151.089                10.79            19.1          24.6   \n",
            "4                  151.089                10.79            19.1          24.6   \n",
            "..                     ...                  ...             ...           ...   \n",
            "174                151.089                10.79            19.1          24.6   \n",
            "175                151.089                10.79            19.1          24.6   \n",
            "176                151.089                10.79            19.1          24.6   \n",
            "177                151.089                10.79            19.1          24.6   \n",
            "178                151.089                10.79            19.1          24.6   \n",
            "\n",
            "     handwashing_facilities  hospital_beds_per_thousand  life_expectancy  \\\n",
            "0                      None                        2.77            78.86   \n",
            "1                      None                        2.77            78.86   \n",
            "2                      None                        2.77            78.86   \n",
            "3                      None                        2.77            78.86   \n",
            "4                      None                        2.77            78.86   \n",
            "..                      ...                         ...              ...   \n",
            "174                    None                        2.77            78.86   \n",
            "175                    None                        2.77            78.86   \n",
            "176                    None                        2.77            78.86   \n",
            "177                    None                        2.77            78.86   \n",
            "178                    None                        2.77            78.86   \n",
            "\n",
            "     human_development_index  \n",
            "0                      0.924  \n",
            "1                      0.924  \n",
            "2                      0.924  \n",
            "3                      0.924  \n",
            "4                      0.924  \n",
            "..                       ...  \n",
            "174                    0.924  \n",
            "175                    0.924  \n",
            "176                    0.924  \n",
            "177                    0.924  \n",
            "178                    0.924  \n",
            "\n",
            "[179 rows x 41 columns]\n"
          ]
        }
      ],
      "source": [
        "# Write a query to select all columns from the 'covid19_data' table where the 'location' is 'United States' and limit the result to 10 rows.\n",
        "query_3 = \"_____________________;\"\n",
        "\n",
        "# Write a query to select all columns from the 'covid19_data' table where the 'location' is 'United States' and 'new_cases' are greater than 10,000.\n",
        "query_4 = \"_____________________;\"\n",
        "\n",
        "# Execute the queries\n",
        "result_3 = pd.read_sql_query(query_3, conn)\n",
        "result_4 = pd.read_sql_query(query_4, conn)\n",
        "\n",
        "# Display results\n",
        "print(result_3)\n",
        "print(result_4)"
      ]
    },
    {
      "cell_type": "markdown",
      "id": "805be2ce",
      "metadata": {
        "id": "805be2ce"
      },
      "source": [
        "## Milestone 5: Aggregating Data\n",
        "Next, we will use aggregate functions like `COUNT`, `SUM`, `AVG`, `MIN`, and `MAX` to summarize data."
      ]
    },
    {
      "cell_type": "code",
      "execution_count": null,
      "id": "8285e29e",
      "metadata": {
        "id": "8285e29e",
        "outputId": "d6d7db2e-45e0-4df1-89db-566a4653c985"
      },
      "outputs": [
        {
          "name": "stdout",
          "output_type": "stream",
          "text": [
            "   total_records\n",
            "0          44785\n",
            "   total_cases_sum\n",
            "0     4.140805e+09\n",
            "   average_new_cases\n",
            "0        1388.770224\n",
            "   minimum_deaths\n",
            "0             0.0\n",
            "   maximum_deaths\n",
            "0        952724.0\n"
          ]
        }
      ],
      "source": [
        "# Using COUNT, SUM, AVG, MIN, MAX\n",
        "# Write a query to count the total number of records in the 'covid19_data' table.\n",
        "query_5 = \"__________________;\"\n",
        "\n",
        "# Write a query to calculate the sum of 'total_cases' in the 'covid19_data' table.\n",
        "query_6 = \"__________________;\"\n",
        "\n",
        "# Write a query to calculate the average of 'new_cases' in the 'covid19_data' table.\n",
        "query_7 = \"__________________;\"\n",
        "\n",
        "# Write a query to find the minimum value of 'total_deaths' in the 'covid19_data' table.\n",
        "query_8 = \"__________________;\"\n",
        "\n",
        "# Write a query to find the maximum value of 'total_deaths' in the 'covid19_data' table.\n",
        "query_9 = \"__________________;\"\n",
        "\n",
        "# Execute the queries\n",
        "result_5 = pd.read_sql_query(query_5, conn)\n",
        "result_6 = pd.read_sql_query(query_6, conn)\n",
        "result_7 = pd.read_sql_query(query_7, conn)\n",
        "result_8 = pd.read_sql_query(query_8, conn)\n",
        "result_9 = pd.read_sql_query(query_9, conn)\n",
        "\n",
        "# Display results\n",
        "print(result_5)\n",
        "print(result_6)\n",
        "print(result_7)\n",
        "print(result_8)\n",
        "print(result_9)"
      ]
    },
    {
      "cell_type": "markdown",
      "id": "e9d05b1b",
      "metadata": {
        "id": "e9d05b1b"
      },
      "source": [
        "## Milestone 6: Grouping Data\n",
        "We will use the `GROUP BY` clause to group data and the `HAVING` clause to filter groups."
      ]
    },
    {
      "cell_type": "code",
      "execution_count": null,
      "id": "8d8603a1",
      "metadata": {
        "id": "8d8603a1",
        "outputId": "4dec6721-3444-49f6-b881-7f0eff5284ea"
      },
      "outputs": [
        {
          "name": "stdout",
          "output_type": "stream",
          "text": [
            "           location  avg_new_cases\n",
            "0       Afghanistan     153.224409\n",
            "1           Albania      61.912821\n",
            "2           Algeria     190.783784\n",
            "3           Andorra       8.231579\n",
            "4            Angola      20.818681\n",
            "..              ...            ...\n",
            "207  Western Sahara       5.210884\n",
            "208           World  115683.507576\n",
            "209           Yemen      12.417178\n",
            "210          Zambia      75.794595\n",
            "211        Zimbabwe      41.786885\n",
            "\n",
            "[212 rows x 2 columns]\n",
            "          location  avg_new_cases\n",
            "0        Argentina    3054.314721\n",
            "1       Bangladesh    1829.656085\n",
            "2           Brazil   17027.208333\n",
            "3            Chile    2225.261307\n",
            "4         Colombia    3888.450777\n",
            "5           France    1623.848485\n",
            "6          Germany    1022.992424\n",
            "7            India   20182.562738\n",
            "8             Iran    1576.507576\n",
            "9             Iraq    1189.656489\n",
            "10           Italy    1117.166667\n",
            "11          Mexico    2691.226562\n",
            "12        Pakistan    1177.725869\n",
            "13            Peru    3859.244898\n",
            "14     Philippines    1075.100000\n",
            "15          Russia    4133.280303\n",
            "16    Saudi Arabia    1660.202020\n",
            "17    South Africa    3355.239796\n",
            "18           Spain    2433.612167\n",
            "19          Turkey    1577.947368\n",
            "20  United Kingdom    1461.878788\n",
            "21   United States   25472.223485\n",
            "22           World  115683.507576\n"
          ]
        }
      ],
      "source": [
        "# Write a query to calculate the average of 'new_cases' for each 'location' in the 'covid19_data' table, grouping the data by location.\n",
        "query_10 = \"__________________;\"\n",
        "\n",
        "# Write a query to calculate the average of 'new_cases' for each 'location' in the 'covid19_data' table, grouping by location, and filtering the groups to only include those with an average of new cases greater than 1,000.\n",
        "query_11 = \"__________________;\"\n",
        "\n",
        "# Execute the queries\n",
        "result_10 = pd.read_sql_query(query_10, conn)\n",
        "result_11 = pd.read_sql_query(query_11, conn)\n",
        "\n",
        "# Display results\n",
        "print(result_10)\n",
        "print(result_11)"
      ]
    },
    {
      "cell_type": "markdown",
      "id": "423d7336",
      "metadata": {
        "id": "423d7336"
      },
      "source": [
        "## Milestone 7: Sorting Data\n",
        "In this milestone, we will use the `ORDER BY` clause to sort data based on specific columns."
      ]
    },
    {
      "cell_type": "code",
      "execution_count": null,
      "id": "253aed09",
      "metadata": {
        "id": "253aed09",
        "outputId": "55df8e2f-b41a-4de8-dbac-27756cb87369"
      },
      "outputs": [
        {
          "name": "stdout",
          "output_type": "stream",
          "text": [
            "  location  total_cases\n",
            "0    World   30540446.0\n",
            "1    World   30231370.0\n",
            "2    World   29917712.0\n",
            "3    World   29626570.0\n",
            "4    World   29322588.0\n",
            "5    World   29079725.0\n",
            "6    World   28807131.0\n",
            "7    World   28520036.0\n",
            "8    World   28214710.0\n",
            "9    World   27904423.0\n"
          ]
        }
      ],
      "source": [
        "# Write a query to select 'location' and 'total_cases' from the 'covid19_data' table, ordering the results by 'total_cases' in descending order and limiting the output to the top 10 rows.\n",
        "query_12 = \"__________________;\"\n",
        "\n",
        "# Execute the query\n",
        "result_12 = pd.read_sql_query(query_12, conn)\n",
        "\n",
        "# Display result\n",
        "print(result_12)"
      ]
    },
    {
      "cell_type": "markdown",
      "id": "613c8ad3",
      "metadata": {
        "id": "613c8ad3"
      },
      "source": [
        "## Milestone 8: SQL Joins - Combining Tables\n",
        "In this milestone, we will perform an `INNER JOIN` to combine rows from two or more tables based on a related column.\n",
        "\n",
        "To better understand SQL Joins and the different types of Joins, check out this [resource by W3Schools](https://www.w3schools.com/sql/sql_join.asp). Then begin the section below.\n"
      ]
    },
    {
      "cell_type": "code",
      "execution_count": null,
      "id": "de24fec9",
      "metadata": {
        "id": "de24fec9",
        "outputId": "4c8f5d7c-e97a-4ec0-c65c-c385d52efbdb"
      },
      "outputs": [
        {
          "name": "stdout",
          "output_type": "stream",
          "text": [
            "           location  total_cases  total_vaccinations\n",
            "0            Brazil          0.0           200000000\n",
            "1            Brazil          0.0           200000000\n",
            "2            Brazil          0.0           200000000\n",
            "3            Brazil          0.0           200000000\n",
            "4            Brazil          0.0           200000000\n",
            "...             ...          ...                 ...\n",
            "1315  United States    6554820.0           300000000\n",
            "1316  United States    6606293.0           300000000\n",
            "1317  United States    6630891.0           300000000\n",
            "1318  United States    6674458.0           300000000\n",
            "1319  United States    6724667.0           300000000\n",
            "\n",
            "[1320 rows x 3 columns]\n"
          ]
        }
      ],
      "source": [
        "# Assuming another table 'vaccination_data' exists\n",
        "# Create a sample vaccination_data table\n",
        "vaccination_data = {\n",
        "    'location': ['United States', 'India', 'Brazil', 'Russia', 'United Kingdom'],\n",
        "    'total_vaccinations': [300000000, 250000000, 200000000, 150000000, 100000000]\n",
        "}\n",
        "vaccination_df = pd.DataFrame(vaccination_data)\n",
        "vaccination_df.to_sql('vaccination_data', conn, if_exists='replace', index=False)\n",
        "\n",
        "# Write a query to join 'covid19_data' and 'vaccination_data' tables, selecting 'location', 'total_cases', and 'total_vaccinations', using an INNER JOIN on the 'location' column.\n",
        "query_13 = \"\"\"\n",
        "SELECT ___________, ___________, ___________\n",
        "FROM ___________ c\n",
        "INNER JOIN ___________ v ON c.___________ = v.___________;\n",
        "\"\"\"\n",
        "\n",
        "# Execute the query\n",
        "result_13 = pd.read_sql_query(query_13, conn)\n",
        "\n",
        "# Display result\n",
        "print(result_13)"
      ]
    },
    {
      "cell_type": "markdown",
      "id": "4603f3db",
      "metadata": {
        "id": "4603f3db"
      },
      "source": [
        "## Milestone 9: Subqueries\n",
        "We will use subqueries in the `SELECT` clause to further refine our data."
      ]
    },
    {
      "cell_type": "code",
      "execution_count": null,
      "id": "4110e6a1",
      "metadata": {
        "id": "4110e6a1",
        "outputId": "b6a16d7e-4b67-4cbb-8e1a-7324104c263c"
      },
      "outputs": [
        {
          "name": "stdout",
          "output_type": "stream",
          "text": [
            "            location  total_cases  avg_total_cases\n",
            "0        Afghanistan          0.0     93721.529039\n",
            "1        Afghanistan          0.0     93721.529039\n",
            "2        Afghanistan          0.0     93721.529039\n",
            "3        Afghanistan          0.0     93721.529039\n",
            "4        Afghanistan          0.0     93721.529039\n",
            "...              ...          ...              ...\n",
            "44780  International        696.0     93721.529039\n",
            "44781  International        696.0     93721.529039\n",
            "44782  International        696.0     93721.529039\n",
            "44783  International        696.0     93721.529039\n",
            "44784  International        696.0     93721.529039\n",
            "\n",
            "[44785 rows x 3 columns]\n"
          ]
        }
      ],
      "source": [
        "# Using subquery in SELECT\n",
        "# Write a query to select 'location' and 'total_cases' from the 'covid19_data' table and include the average of 'total_cases' as a subquery.\n",
        "\n",
        "query_14 = \"\"\"\n",
        "SELECT ___________, ___________,\n",
        "       (SELECT ___________ FROM ___________) as ___________\n",
        "FROM ___________;\n",
        "\"\"\"\n",
        "\n",
        "# Execute the query\n",
        "result_14 = pd.read_sql_query(query_14, conn)\n",
        "\n",
        "# Display result\n",
        "print(result_14)"
      ]
    },
    {
      "cell_type": "markdown",
      "id": "48fc42a9",
      "metadata": {
        "id": "48fc42a9"
      },
      "source": [
        "## Milestone 10: Window Functions\n",
        "We will use window functions like `ROW_NUMBER()`, `RANK()`, `DENSE_RANK()`, `NTILE()`, `LEAD()`, `LAG()` to perform operations across a set of table rows."
      ]
    },
    {
      "cell_type": "code",
      "execution_count": null,
      "id": "c15122c5",
      "metadata": {
        "id": "c15122c5",
        "outputId": "3b9d671d-18e7-4b9d-deeb-1f140dd2de6c"
      },
      "outputs": [
        {
          "name": "stdout",
          "output_type": "stream",
          "text": [
            "          location        date  new_cases  row_num  rank  dense_rank\n",
            "0      Afghanistan  2019-12-31        0.0        1   178         145\n",
            "1      Afghanistan  2020-01-01        0.0        2   178         145\n",
            "2      Afghanistan  2020-01-02        0.0        3   178         145\n",
            "3      Afghanistan  2020-01-03        0.0        4   178         145\n",
            "4      Afghanistan  2020-01-04        0.0        5   178         145\n",
            "...            ...         ...        ...      ...   ...         ...\n",
            "44780     Zimbabwe  2020-09-15        5.0      179   105          71\n",
            "44781     Zimbabwe  2020-09-16       45.0      180    57          45\n",
            "44782     Zimbabwe  2020-09-17       22.0      181    73          57\n",
            "44783     Zimbabwe  2020-09-18       35.0      182    64          49\n",
            "44784     Zimbabwe  2020-09-19       14.0      183    85          63\n",
            "\n",
            "[44785 rows x 6 columns]\n"
          ]
        }
      ],
      "source": [
        "# Using ROW_NUMBER(), RANK(), DENSE_RANK(), NTILE(), LEAD(), LAG()\n",
        "# Write a query to select 'location', 'date', and 'new_cases' from the 'covid19_data' table. Use ROW_NUMBER(), RANK(), and DENSE_RANK() functions, partitioned by 'location', and ordered by 'date' and 'new_cases' respectively.\n",
        "query_15 = \"\"\"\n",
        "SELECT ___________, ___________, ___________,\n",
        "       ROW_NUMBER() OVER(PARTITION BY ___________ ORDER BY ___________) as ___________,\n",
        "       RANK() OVER(PARTITION BY ___________ ORDER BY ___________ DESC) as ___________,\n",
        "       DENSE_RANK() OVER(PARTITION BY ___________ ORDER BY ___________ DESC) as ___________\n",
        "FROM ___________;\n",
        "\"\"\"\n",
        "\n",
        "# Execute the query\n",
        "result_15 = pd.read_sql_query(query_15, conn)\n",
        "\n",
        "# Display result\n",
        "print(result_15)"
      ]
    },
    {
      "cell_type": "markdown",
      "id": "b547cb07",
      "metadata": {
        "id": "b547cb07"
      },
      "source": [
        "## Milestone 11: Data Analysis and Visualization\n",
        "In this final milestone, we will use SQL queries to extract data for analysis and create visualizations using `matplotlib`."
      ]
    },
    {
      "cell_type": "code",
      "execution_count": null,
      "id": "d348a90b",
      "metadata": {
        "id": "d348a90b",
        "outputId": "5b515191-8db3-4644-e025-fe5888b8bc8a"
      },
      "outputs": [
        {
          "data": {
            "image/png": "[encoded data removed]",
            "text/plain": [
              "<Figure size 1000x500 with 1 Axes>"
            ]
          },
          "metadata": {},
          "output_type": "display_data"
        }
      ],
      "source": [
        "# Write a query to select 'date' and 'new_cases' from the 'covid19_data' table for records where the 'location' is 'United States'.\n",
        "query_16 = \"SELECT ___________, ___________ FROM ___________ WHERE ___________='____________';\"\n",
        "us_data = pd.read_sql_query(query_16, conn)\n",
        "\n",
        "\n",
        "# Plot the data\n",
        "plt.figure(figsize=(10, 5))\n",
        "plt.plot(us_data['date'], us_data['new_cases'], label='New Cases in the US')\n",
        "plt.xlabel('Date')\n",
        "plt.ylabel('New Cases')\n",
        "plt.title('COVID-19 New Cases Over Time in the US')\n",
        "plt.legend()\n",
        "\n",
        "# Format the x-axis for dates\n",
        "plt.gca().xaxis.set_major_locator(mdates.MonthLocator())\n",
        "plt.gca().xaxis.set_major_formatter(mdates.DateFormatter('%Y-%m'))\n",
        "\n",
        "plt.xticks(rotation=45)\n",
        "plt.tight_layout()\n",
        "plt.show()\n"
      ]
    },
    {
      "cell_type": "markdown",
      "source": [
        "### **Final Submission**\n",
        "Thank you for completing the project!\n",
        "Please submit all materials to the NSDC HQ team at er3101@columbia.edu in order to receive a virtual certificate of completion. Do reach out to us if you have any questions or concerns. We are here to help you learn and grow."
      ],
      "metadata": {
        "id": "ZjJ9ZOOjGx7P"
      },
      "id": "ZjJ9ZOOjGx7P"
    }
  ],
  "metadata": {
    "kernelspec": {
      "display_name": "base",
      "language": "python",
      "name": "python3"
    },
    "language_info": {
      "codemirror_mode": {
        "name": "ipython",
        "version": 3
      },
      "file_extension": ".py",
      "mimetype": "text/x-python",
      "name": "python",
      "nbconvert_exporter": "python",
      "pygments_lexer": "ipython3",
      "version": "3.11.8"
    },
    "colab": {
      "provenance": [],
      "include_colab_link": true
    }
  },
  "nbformat": 4,
  "nbformat_minor": 5
}
